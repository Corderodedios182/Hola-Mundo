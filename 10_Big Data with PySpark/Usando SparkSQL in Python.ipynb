{
 "cells": [
  {
   "cell_type": "code",
   "execution_count": 1,
   "metadata": {},
   "outputs": [
    {
     "ename": "ModuleNotFoundError",
     "evalue": "No module named 'pyspark'",
     "output_type": "error",
     "traceback": [
      "\u001b[1;31m---------------------------------------------------------------------------\u001b[0m",
      "\u001b[1;31mModuleNotFoundError\u001b[0m                       Traceback (most recent call last)",
      "\u001b[1;32m<ipython-input-1-6f11672b56d2>\u001b[0m in \u001b[0;36m<module>\u001b[1;34m\u001b[0m\n\u001b[1;32m----> 1\u001b[1;33m \u001b[1;32mfrom\u001b[0m \u001b[0mpyspark\u001b[0m\u001b[1;33m.\u001b[0m\u001b[0msql\u001b[0m \u001b[1;32mimport\u001b[0m \u001b[0mSQLContext\u001b[0m\u001b[1;33m,\u001b[0m \u001b[0mRow\u001b[0m\u001b[1;33m\u001b[0m\u001b[1;33m\u001b[0m\u001b[0m\n\u001b[0m",
      "\u001b[1;31mModuleNotFoundError\u001b[0m: No module named 'pyspark'"
     ]
    }
   ],
   "source": [
    "from pyspark.sql import SQLContext, Row"
   ]
  },
  {
   "cell_type": "code",
   "execution_count": null,
   "metadata": {},
   "outputs": [],
   "source": [
    "hiveContext = HiveContext(sc)\n",
    "\n",
    "input_data = spark.read.json(dataFile)\n",
    "\n",
    "input_data.createOrReplaceTempView(\"myStructuredStuff\")\n",
    "\n",
    "my_result_dataframe = hiveContext.sql(\"\"\"SELECT * FROM TABLA\"\"\")"
   ]
  },
  {
   "cell_type": "code",
   "execution_count": null,
   "metadata": {},
   "outputs": [],
   "source": [
    "#Ejecutando comandos en los metadatos\n",
    "my_result_dataframe.show()\n",
    "\n",
    "my_result_dataframe.select(\"some_field_name\")\n",
    "\n",
    "my_result_dataframe.filter(my_result_dataframe[\"some_field_name\" < 20])\n",
    "\n",
    "my_result_dataframe.groupby(my_result_dataframe[\"some_field_name\"]).mean()\n",
    "\n",
    "my_result_dataframe.rdd().map(mapper_function)"
   ]
  },
  {
   "cell_type": "code",
   "execution_count": null,
   "metadata": {},
   "outputs": [],
   "source": [
    "#Definiendo funciones por el usuario\n",
    "\n",
    "from pyspark.sql.types import IntegerType\n",
    "\n",
    "hiveCtx.registerFunction(\"square\", lambda x: x*x, IntegerType())\n",
    "\n",
    "df = hiveCtx.sql(\"SELECT square('some_numeric_filed') FROM TABLA\")\n",
    "\n"
   ]
  }
 ],
 "metadata": {
  "kernelspec": {
   "display_name": "Python 3",
   "language": "python",
   "name": "python3"
  },
  "language_info": {
   "codemirror_mode": {
    "name": "ipython",
    "version": 3
   },
   "file_extension": ".py",
   "mimetype": "text/x-python",
   "name": "python",
   "nbconvert_exporter": "python",
   "pygments_lexer": "ipython3",
   "version": "3.8.5"
  }
 },
 "nbformat": 4,
 "nbformat_minor": 4
}
